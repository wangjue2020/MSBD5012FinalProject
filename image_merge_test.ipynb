{
 "cells": [
  {
   "cell_type": "code",
   "execution_count": 1,
   "id": "770f1290",
   "metadata": {},
   "outputs": [],
   "source": [
    "from PIL import Image\n",
    "import os"
   ]
  },
  {
   "cell_type": "code",
   "execution_count": 12,
   "id": "25abc849",
   "metadata": {},
   "outputs": [],
   "source": [
    "import numpy as np\n",
    "for i in range(800,1000):\n",
    "    j = np.random.randint(i, high=1000, size=1)[0]\n",
    "    image1 = Image.open('resized_test/sample_{:0>4d}.bmp'.format(i))\n",
    "    image2 = Image.open('resized_test/sample_{:0>4d}.bmp'.format(j))\n",
    "    image1_size = image1.size\n",
    "    image2_size = image2.size\n",
    "    new_image = Image.new('RGB',(2*image1_size[0], image1_size[1]), (250,250,250))\n",
    "    new_image.paste(image1,(0,0))\n",
    "    new_image.paste(image2,(image1_size[0],0))\n",
    "    new_image.save(\"merge_test/merged_image_{:0>4d}_{:0>4d}.bmp\".format(i,j),\"bmp\")"
   ]
  },
  {
   "cell_type": "code",
   "execution_count": 11,
   "id": "688179da",
   "metadata": {},
   "outputs": [],
   "source": [
    "\n",
    "if not os.path.exists('./merge_test'):\n",
    "    os.makedirs('./merge_test')\n",
    "    "
   ]
  }
 ],
 "metadata": {
  "kernelspec": {
   "display_name": "Python 3",
   "language": "python",
   "name": "python3"
  },
  "language_info": {
   "codemirror_mode": {
    "name": "ipython",
    "version": 3
   },
   "file_extension": ".py",
   "mimetype": "text/x-python",
   "name": "python",
   "nbconvert_exporter": "python",
   "pygments_lexer": "ipython3",
   "version": "3.8.8"
  }
 },
 "nbformat": 4,
 "nbformat_minor": 5
}
