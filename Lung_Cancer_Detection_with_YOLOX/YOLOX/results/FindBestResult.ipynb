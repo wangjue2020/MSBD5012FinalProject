{
 "cells": [
  {
   "cell_type": "code",
   "execution_count": 3,
   "id": "3137cdd4",
   "metadata": {},
   "outputs": [],
   "source": [
    "import numpy as np\n",
    "import os\n",
    "\n",
    "expand_mask = \"./expand_and_mask_log.txt\"\n",
    "mask_only = \"./only_mask_log.txt\"\n",
    "expand_only = \"./only_expand_train_log.txt\"\n",
    "raw_log = \"./raw_log.txt\""
   ]
  },
  {
   "cell_type": "code",
   "execution_count": 4,
   "id": "2a028cd5",
   "metadata": {},
   "outputs": [],
   "source": [
    "def getMaxAcc(path):\n",
    "    f = open(path, \"r\", encoding='utf-8') \n",
    "    lines = f.readlines()\n",
    "    prefix = \"IoU=0.50     \"\n",
    "    prefix_95 = \"(AP) @[ IoU=0.50:0.95\"\n",
    "    max_acc = 0.0\n",
    "    max_95_acc = 0.0\n",
    "    for line in lines:\n",
    "        if prefix in line:\n",
    "            acc = float(line.split(\" \")[-1])\n",
    "            if acc > max_acc:\n",
    "                max_acc = acc\n",
    "        elif prefix_95 in line:\n",
    "            acc = float(line.split(\" \")[-1])\n",
    "            if acc > max_95_acc:\n",
    "                max_95_acc = acc\n",
    "    f.close()\n",
    "    print(f\"AP50:{max_acc} and AP50-95:{max_95_acc}\")"
   ]
  },
  {
   "cell_type": "code",
   "execution_count": 5,
   "id": "26b26b59",
   "metadata": {},
   "outputs": [
    {
     "name": "stdout",
     "output_type": "stream",
     "text": [
      "AP50:0.165 and AP50-95:0.129\n"
     ]
    }
   ],
   "source": [
    "getMaxAcc(expand_mask)"
   ]
  },
  {
   "cell_type": "code",
   "execution_count": 6,
   "id": "3b601ad9",
   "metadata": {},
   "outputs": [
    {
     "name": "stdout",
     "output_type": "stream",
     "text": [
      "AP50:0.402 and AP50-95:0.261\n"
     ]
    }
   ],
   "source": [
    "getMaxAcc(mask_only)"
   ]
  },
  {
   "cell_type": "code",
   "execution_count": 7,
   "id": "cc7a3463",
   "metadata": {},
   "outputs": [
    {
     "name": "stdout",
     "output_type": "stream",
     "text": [
      "AP50:0.133 and AP50-95:0.156\n"
     ]
    }
   ],
   "source": [
    "getMaxAcc(expand_only)"
   ]
  },
  {
   "cell_type": "code",
   "execution_count": 8,
   "id": "e3f8b45a",
   "metadata": {},
   "outputs": [
    {
     "name": "stdout",
     "output_type": "stream",
     "text": [
      "AP50:0.265 and AP50-95:0.171\n"
     ]
    }
   ],
   "source": [
    "getMaxAcc(raw_log)"
   ]
  },
  {
   "cell_type": "code",
   "execution_count": null,
   "id": "1bc17e0d",
   "metadata": {},
   "outputs": [],
   "source": [
    "def getMaxRecall(path):\n",
    "    f = open(path, \"r\", encoding='utf-8') \n",
    "    lines = f.readlines()\n",
    "    prefix = \"IoU=0.50     \"\n",
    "    prefix_95 = \"(AP) @[ IoU=0.50:0.95\"\n",
    "    max_acc = 0.0\n",
    "    max_95_acc = 0.0\n",
    "    for line in lines:\n",
    "        if prefix in line:\n",
    "            acc = float(line.split(\" \")[-1])\n",
    "            if acc > max_acc:\n",
    "                max_acc = acc\n",
    "        elif prefix_95 in line:\n",
    "            acc = float(line.split(\" \")[-1])\n",
    "            if acc > max_95_acc:\n",
    "                max_95_acc = acc\n",
    "    f.close()\n",
    "    print(f\"AP50:{max_acc} and AP50-95:{max_95_acc}\")"
   ]
  }
 ],
 "metadata": {
  "kernelspec": {
   "display_name": "Python 3",
   "language": "python",
   "name": "python3"
  },
  "language_info": {
   "codemirror_mode": {
    "name": "ipython",
    "version": 3
   },
   "file_extension": ".py",
   "mimetype": "text/x-python",
   "name": "python",
   "nbconvert_exporter": "python",
   "pygments_lexer": "ipython3",
   "version": "3.8.8"
  }
 },
 "nbformat": 4,
 "nbformat_minor": 5
}
